{
 "cells": [
  {
   "cell_type": "markdown",
   "metadata": {},
   "source": [
    "# Python Homework 1"
   ]
  },
  {
   "cell_type": "markdown",
   "metadata": {},
   "source": [
    "<b> Instructions:</b> This Python Homework is due on <b> Sunday, October 9th, at 11:59 p.m.</b> You have to submit your version of this Jupyter Notebook via Gradescope!"
   ]
  },
  {
   "cell_type": "markdown",
   "metadata": {},
   "source": [
    "In this homework you are supposed to use the random number generater random.random_sample from the numpy package to generate random numbers with three different distributions. \n",
    "\n",
    "Recall from the lecture that if $F:\\mathbb{R}\\rightarrow [0,1]$ is a distribution function with generalized inverse $F^{-1}:[0,1]\\rightarrow \\mathbb{R}$ and $U$ is a uniform random variable, then $F^{-1}(U)$ is a random variable with distribution function $F$.\n",
    "\n",
    "Using the function random.random_sample from numpy package write three functions: \n",
    "* exponentialRV(seed, mean,n) that returns for given seed a bunch of n random variables from an exponential distribution with the provided mean. Derive the generalized inverse distribution function analytically for your simulation.\n",
    "* binomial(seed, p,m,n) that returns for given seed a bunch of n Binomial distributed random numbers with the provided success probability p and the number of trial equal to m. You have to numerically calculate the inverse distribution function.\n",
    "* funnyDiceRV(seed,n) that returns for given seed a bunch of n random number which describe a biased die with distribution $\\mathbb{P}(\\{1\\})=\\mathbb{P}(\\{2\\})=1/6$,$\\mathbb{P}(\\{3\\})=\\mathbb{P}(\\{4\\})=1/4$ and $\\mathbb{P}(\\{5\\})=\\mathbb{P}(\\{6\\})=1/12$."
   ]
  },
  {
   "cell_type": "code",
   "execution_count": 17,
   "outputs": [],
   "source": [
    "import numpy as np\n",
    "import math\n",
    "import matplotlib.pyplot as plt\n",
    "from math import comb"
   ],
   "metadata": {
    "collapsed": false
   }
  },
  {
   "cell_type": "markdown",
   "source": [
    "Here should come your code for the three functions:"
   ],
   "metadata": {
    "collapsed": false
   }
  },
  {
   "cell_type": "code",
   "execution_count": 18,
   "outputs": [],
   "source": [
    "def exponentialRV(seed, mean, n):\n",
    "    '''\n",
    "\n",
    "    :param seed: seed number\n",
    "    :param mean: mean\n",
    "    :param n: number of simulations\n",
    "    :return:\n",
    "    '''\n",
    "    \n",
    "    #sets the seed\n",
    "    np.random.seed(seed)\n",
    "\n",
    "    #draws n samples from a Uniform distribution [0,1]\n",
    "    u = np.random.random_sample(n)\n",
    "\n",
    "    #Calculates X\n",
    "    exponentialSample = -mean * np.log(1-u)\n",
    "\n",
    "    return exponentialSample\n",
    "\n",
    "#For Testing\n",
    "#user_seed = int(input('Input a seed number: '))\n",
    "#user_mean = int(input('Input a mean: '))\n",
    "#user_num_rvs = int(input('Input a number of random variables: '))\n",
    "\n",
    "#exponentialRV(user_seed, user_mean, user_num_rvs)"
   ],
   "metadata": {
    "collapsed": false
   }
  },
  {
   "cell_type": "code",
   "execution_count": 19,
   "outputs": [],
   "source": [
    "def binomial(seed, p, m,n):\n",
    "    '''\n",
    "\n",
    "    #:param seed: seed number\n",
    "    #:param p: probability\n",
    "    #:param m: number of trials\n",
    "    #:param n: number of simulations\n",
    "\n",
    "    '''\n",
    "\n",
    "    #sets the seed\n",
    "    np.random.seed(seed)\n",
    "\n",
    "    #draws n samples from a Uniform distribution [0,1]\n",
    "    u = np.random.random_sample(n)\n",
    "\n",
    "    #creates list to store cumulative probabilities P(X<=x), starting with 0 for the for loop\n",
    "    lookup_table = [0]\n",
    "\n",
    "    #stores cumulative probabilities P(X<=x)\n",
    "    for i in range(m+1):\n",
    "        cumulative_prob = lookup_table[i]\n",
    "        cumulative_prob = math.comb(m, i)*(p**i)*(1-p)**(m-i) + cumulative_prob\n",
    "        lookup_table.append(cumulative_prob)\n",
    "\n",
    "    print(lookup_table)\n",
    "\n",
    "\n",
    "    #removes the zero from the cumulative probabilities for classification\n",
    "    lookup_table.pop(0)\n",
    "    lookup_table.pop()\n",
    "    lookup_table.append(1)\n",
    "\n",
    "    #Creates empty list to store binomial samples\n",
    "    binomialSample = list()\n",
    "\n",
    "    #Locates and adds the index of the interval from the cumulative probability lookup table in which each u lies\n",
    "    for num in u:\n",
    "        for lnum in lookup_table:\n",
    "            if num < lnum:\n",
    "                binomialSample.append(lookup_table.index(lnum))\n",
    "                break\n",
    "\n",
    "    return binomialSample\n",
    "\n",
    "#For Testing\n",
    "#user_seed = int(input('Input a seed number: '))\n",
    "#user_prob = float(input('Input a probability: '))\n",
    "#user_num_trials = int(input('Input a number of trials: '))\n",
    "#user_num_simulations = int(input('Input a number of random variables: '))\n",
    "\n",
    "#binomial(user_seed, user_prob, user_num_trials, user_num_simulations)"
   ],
   "metadata": {
    "collapsed": false
   }
  },
  {
   "cell_type": "code",
   "execution_count": 20,
   "outputs": [],
   "source": [
    "def funnyDiceRV(seed, n):\n",
    "    '''\n",
    "\n",
    "    :param seed: seed number\n",
    "    :param n: number of simulations\n",
    "    :return:\n",
    "    '''\n",
    "      \n",
    "    #sets the seed\n",
    "    np.random.seed(seed)\n",
    "\n",
    "    #Creates empty list to store X values\n",
    "    funnyDiceSample = list()\n",
    "\n",
    "    #draws n samples from a Uniform distribution [0,1]\n",
    "    u = np.random.random_sample(n)\n",
    "\n",
    "    #Locates and adds the index of the interval in which each u lies\n",
    "    for num in u:\n",
    "        if num < (1/6):\n",
    "            funnyDiceSample.append(1)\n",
    "        elif (1/6) <= num and num < (2/6):\n",
    "            funnyDiceSample.append(2)\n",
    "        elif (2/6) <= num and num < (7/12):\n",
    "            funnyDiceSample.append(3)\n",
    "        elif (7/12) <= num and num < (10/12):\n",
    "            funnyDiceSample.append(4)\n",
    "        elif (10/12) <= num and num < (11/12):\n",
    "            funnyDiceSample.append(5)\n",
    "        else:\n",
    "            funnyDiceSample.append(6)\n",
    "\n",
    "    return funnyDiceSample\n",
    "\n",
    "#For Testing\n",
    "#user_seed = int(input('Input a seed number: '))\n",
    "#user_num_rvs = int(input('Input a number of random variables: '))\n",
    "\n",
    "#funnyDiceRV(user_seed, user_num_rvs)"
   ],
   "metadata": {
    "collapsed": false
   }
  },
  {
   "cell_type": "code",
   "execution_count": 21,
   "outputs": [
    {
     "name": "stdout",
     "output_type": "stream",
     "text": [
      "[0.26236509 1.21717374 5.88456477 0.33509781 2.30128578]\n",
      "[0, 3.4867844010000104e-11, 1.6620338978100047e-09, 3.77308814237101e-08, 5.426947467863113e-07, 5.550253078298772e-06, 4.2940021953591796e-05, 0.00026104700705946774, 0.0012788796042202222, 0.005138161535121415, 0.017144816431258456, 0.04796189733134352, 0.11333146287697848, 0.22772820258183965, 0.3919901877990762, 0.5836291705525187, 0.7624922211223985, 0.892913195496269, 0.9645168677015313, 0.9923627402258, 0.9992020773370238, 0.9999999999999999]\n",
      "[11, 13, 16, 11, 14]\n",
      "[1, 3, 5, 1, 3]\n"
     ]
    }
   ],
   "source": [
    "print(exponentialRV(105, 3,5))# You should test all three functions\n",
    "print(binomial(105, 0.7,20,5))\n",
    "print(funnyDiceRV(105, 5))"
   ],
   "metadata": {
    "collapsed": false
   }
  },
  {
   "cell_type": "markdown",
   "source": [
    "You should use the following routine to plot a histogram of the distribution of all three simulated random variables"
   ],
   "metadata": {
    "collapsed": false
   }
  },
  {
   "cell_type": "code",
   "execution_count": 22,
   "outputs": [
    {
     "name": "stdout",
     "output_type": "stream",
     "text": [
      "[0, 3.4867844010000104e-11, 1.6620338978100047e-09, 3.77308814237101e-08, 5.426947467863113e-07, 5.550253078298772e-06, 4.2940021953591796e-05, 0.00026104700705946774, 0.0012788796042202222, 0.005138161535121415, 0.017144816431258456, 0.04796189733134352, 0.11333146287697848, 0.22772820258183965, 0.3919901877990762, 0.5836291705525187, 0.7624922211223985, 0.892913195496269, 0.9645168677015313, 0.9923627402258, 0.9992020773370238, 0.9999999999999999]\n"
     ]
    },
    {
     "data": {
      "text/plain": "<Figure size 640x480 with 1 Axes>",
      "image/png": "[encoded data removed]"
     },
     "metadata": {},
     "output_type": "display_data"
    },
    {
     "data": {
      "text/plain": "<Figure size 640x480 with 1 Axes>",
      "image/png": "[encoded data removed]"
     },
     "metadata": {},
     "output_type": "display_data"
    },
    {
     "data": {
      "text/plain": "<Figure size 640x480 with 1 Axes>",
      "image/png": "[encoded data removed]"
     },
     "metadata": {},
     "output_type": "display_data"
    }
   ],
   "source": [
    "numberSimulations=10000\n",
    "\n",
    "exponentialSamples=exponentialRV(1, 2,numberSimulations)\n",
    "binomialSamples=binomial(1, 0.7,20,numberSimulations)\n",
    "funnyDiceSamples=funnyDiceRV(1, numberSimulations)\n",
    "\n",
    "\n",
    "np.histogram(exponentialSamples)\n",
    "plt.hist(exponentialSamples, bins='auto')\n",
    "plt.title(\"Histogram Exponential\")\n",
    "plt.show()\n",
    "\n",
    "plt.hist(binomialSamples, bins='auto')\n",
    "plt.title(\"Histogram Binomial\")\n",
    "plt.show()\n",
    "\n",
    "\n",
    "plt.hist(funnyDiceSamples, bins='auto')\n",
    "plt.title(\"Histogram Funny Dice\")\n",
    "plt.show()"
   ],
   "metadata": {
    "collapsed": false
   }
  },
  {
   "cell_type": "markdown",
   "source": [
    "For the exponential random variable, you should then test the empirical expectation and variance of the random variables you generated. Assume you have generated random variables $X_1,X_2,X_3,\\dots,X_n$ calculate the empirical mean \n",
    "\\begin{equation}\n",
    "\\hat{\\text{ }\\mu} =\\frac{\\sum^n_{i=1} X_i}{n}\n",
    "\\end{equation}\n",
    "and the empirical variance \n",
    "\\begin{equation}\n",
    "\\hat{\\text{ }\\sigma} = \\frac{\\sum^n_{i=1}(X_i - \\hat{\\mu})^2}{n}\n",
    "\\end{equation}\n",
    "Use 10000 simulations. Is the result of your calculation in line with what you expect? Why?"
   ],
   "metadata": {
    "collapsed": false
   }
  },
  {
   "cell_type": "code",
   "execution_count": 23,
   "outputs": [
    {
     "name": "stdout",
     "output_type": "stream",
     "text": [
      "The Empirical Expectation is 1.9770938809848277.\n",
      "The Empirical Variance is 3.848581029324636.\n"
     ]
    }
   ],
   "source": [
    "numberSimulations = 10000\n",
    "\n",
    "exponentialSamples=exponentialRV(1, 2,numberSimulations)\n",
    "\n",
    "#Empiricial_Expectation = sum(exponentialSamples)/len(exponentialSamples)\n",
    "\n",
    "Empiricial_Expectation = np.mean(exponentialSamples)\n",
    "\n",
    "Empirical_Variance = np.var(exponentialSamples)\n",
    "\n",
    "print(\"The Empirical Expectation is {}.\".format(Empiricial_Expectation))\n",
    "print(\"The Empirical Variance is {}.\".format(Empirical_Variance))"
   ],
   "metadata": {
    "collapsed": false
   }
  },
  {
   "cell_type": "markdown",
   "source": [
    "The expected value of an exponentially distributed random variable X with parameter $\\beta$ is $E(X) = \\beta$. Thus $E(X) = \\beta = 2  \\approx 1.977$. The variance of X is given by $Var(X) = {\\beta}^2 = 2^2 \\approx 3.8458$. The result of my calculation is very much in line with what I expected.\n",
    "\n",
    "Explanation: By the weak law of large numbers, the average of n independent random variables $X_i,i = 1, ...,n,$ all having the same finite mean and variance, is given by $Y_n = 1/n \\ \\sum_{i=1}^{n} X_i$, then as n approaches infinity, $Y_n$ converges in probability to the common mean, $\\mu$, of the random variables $X_i$."
   ],
   "metadata": {
    "collapsed": false
   }
  },
  {
   "cell_type": "code",
   "execution_count": 23,
   "outputs": [],
   "source": [],
   "metadata": {
    "collapsed": false
   }
  }
 ],
 "metadata": {
  "anaconda-cloud": {},
  "kernelspec": {
   "display_name": "Python 3 (ipykernel)",
   "language": "python",
   "name": "python3"
  },
  "language_info": {
   "codemirror_mode": {
    "name": "ipython",
    "version": 3
   },
   "file_extension": ".py",
   "mimetype": "text/x-python",
   "name": "python",
   "nbconvert_exporter": "python",
   "pygments_lexer": "ipython3",
   "version": "3.8.6"
  }
 },
 "nbformat": 4,
 "nbformat_minor": 2
}
