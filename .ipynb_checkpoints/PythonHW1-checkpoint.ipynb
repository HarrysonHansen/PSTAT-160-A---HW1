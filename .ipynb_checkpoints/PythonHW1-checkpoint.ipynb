{
 "cells": [
  {
   "cell_type": "markdown",
   "metadata": {},
   "source": [
    "# Python Homework 1"
   ]
  },
  {
   "cell_type": "markdown",
   "metadata": {},
   "source": [
    "<b> Instructions:</b> This Python Homework is due on <b> Sunday, October 9th, at 11:59 p.m.</b> You have to submit your version of this Jupyter Notebook via Gradescope!"
   ]
  },
  {
   "cell_type": "markdown",
   "metadata": {},
   "source": [
    "In this homework you are supposed to use the random number generater random.random_sample from the numpy package to generate random numbers with three different distributions. \n",
    "\n",
    "Recall from the lecture that if $F:\\mathbb{R}\\rightarrow [0,1]$ is a distribution function with generalized inverse $F^{-1}:[0,1]\\rightarrow \\mathbb{R}$ and $U$ is a uniform random variable, then $F^{-1}(U)$ is a random variable with distribution function $F$.\n",
    "\n",
    "Using the function random.random_sample from numpy package write three functions: \n",
    "* exponentialRV(seed, mean,n) that returns for given seed a bunch of n random variables from an exponential distribution with the provided mean. Derive the generalized inverse distribution function analytically for your simulation.\n",
    "* binomial(seed, p,m,n) that returns for given seed a bunch of n Binomial distributed random numbers with the provided success probability p and the number of trial equal to m. You have to numerically calculate the inverse distribution function.\n",
    "* funnyDiceRV(seed,n) that returns for given seed a bunch of n random number which describe a biased die with distribution $\\mathbb{P}(\\{1\\})=\\mathbb{P}(\\{2\\})=1/6$,$\\mathbb{P}(\\{3\\})=\\mathbb{P}(\\{4\\})=1/4$ and $\\mathbb{P}(\\{5\\})=\\mathbb{P}(\\{6\\})=1/12$."
   ]
  },
  {
   "cell_type": "code",
   "execution_count": 2,
   "metadata": {},
   "outputs": [],
   "source": [
    "import numpy as np\n",
    "import math\n",
    "import matplotlib.pyplot as plt"
   ]
  },
  {
   "cell_type": "code",
   "execution_count": null,
   "metadata": {},
   "outputs": [],
   "source": []
  },
  {
   "cell_type": "markdown",
   "metadata": {},
   "source": [
    "Here should come your code for the three functions:"
   ]
  },
  {
   "cell_type": "code",
   "execution_count": 6,
   "metadata": {},
   "outputs": [
    {
     "data": {
      "text/plain": [
       "array([7.37717223e+00, 1.04851486e-01, 5.02080650e+00, 6.90760650e+00,\n",
       "       3.45082827e+00, 1.27314946e+00, 1.10362530e+00, 7.14665053e+00,\n",
       "       9.26294352e-01, 4.62439808e-01, 5.78162787e+00, 1.53300598e+01,\n",
       "       1.97804065e-02, 3.58916967e+00, 8.37310885e+00, 4.74053351e+00,\n",
       "       6.39627200e+00, 1.72568078e+00, 1.24914261e+01, 6.26889363e+00,\n",
       "       3.91037689e+00, 7.66746949e-01, 2.33676182e+00, 5.60633922e+00,\n",
       "       2.91548695e+00, 2.84592962e+00, 4.80862426e+00, 3.59887531e+00,\n",
       "       5.25478787e+00, 4.59445747e+00, 8.17950488e+00, 3.68703322e+00,\n",
       "       1.19652237e+01, 1.92269856e+00, 4.74077932e-01, 1.78837763e+00,\n",
       "       6.05103391e-01, 8.82114934e+00, 2.40157937e-01, 4.92133776e+00,\n",
       "       3.96578967e+00, 8.55422559e+00, 1.10914420e+00, 9.71932180e+00,\n",
       "       2.16664338e+00, 7.02530054e+00, 1.75461265e+00, 1.07680882e+01,\n",
       "       1.96900429e+00, 9.01712967e-01, 2.49225622e+00, 4.90602686e-01,\n",
       "       8.60479957e+00, 8.19375830e-01, 2.42347063e+00, 1.44353502e+01,\n",
       "       2.19605767e+01, 3.04683009e+00, 8.74703114e+00, 1.44757966e+00,\n",
       "       4.54870673e+00, 1.16565569e+01, 3.82383839e+00, 4.46044685e+00,\n",
       "       2.00370576e-01, 2.20946634e+00, 4.14805716e-01, 1.82252703e+00,\n",
       "       2.00775872e+00, 7.43234830e+00, 2.03897522e-01, 2.80614200e+00,\n",
       "       1.89114845e+00, 5.05975808e+00, 2.12589439e+00, 2.20268117e-01,\n",
       "       1.05977845e+01, 7.20355395e+00, 1.05226335e+01, 2.70220896e+00,\n",
       "       4.65166386e+00, 3.60224891e+00, 4.55448462e+00, 1.52051860e+00,\n",
       "       1.78960223e+00, 1.28639625e-01, 1.80529815e+00, 1.38585999e+00,\n",
       "       4.07745764e+00, 4.16787745e+00, 3.22304474e+00, 1.73219453e+00,\n",
       "       3.32040329e-01, 1.92732880e+01, 2.07536440e+00, 3.41646577e+00,\n",
       "       1.88788853e+01, 2.90600641e+00, 1.91562855e+00, 3.66773159e+00])"
      ]
     },
     "execution_count": 6,
     "metadata": {},
     "output_type": "execute_result"
    }
   ],
   "source": [
    "def exponentialRV(seed, mean, n):\n",
    "    \n",
    "    ##Here write your own code\n",
    "    \n",
    "    \n",
    "    np.random.seed(seed)\n",
    "    \n",
    "    #hi = np.random.rand(4)\n",
    "    \n",
    "    #return hi\n",
    "\n",
    "    yo= np.random.exponential(scale = mean, size = n)\n",
    "    \n",
    "    return(yo)\n",
    "    \n",
    "    #return expontialSample\n",
    "\n",
    "user_seed = int(input('Input a seed number: '))\n",
    "user_mean = int(input('Input a mean: '))\n",
    "user_num_rvs = int(input('Input a number of random variables: '))\n",
    "\n",
    "exponentialRV(user_seed, user_mean, user_num_rvs)"
   ]
  },
  {
   "cell_type": "code",
   "execution_count": null,
   "metadata": {},
   "outputs": [],
   "source": [
    "def binomial(seed, p,m,n):\n",
    "   \n",
    "    ##Here write your own code\n",
    "    \n",
    "    return binomialSample"
   ]
  },
  {
   "cell_type": "code",
   "execution_count": 11,
   "metadata": {},
   "outputs": [],
   "source": [
    "def funnyDiceRV(seed, n):\n",
    "      \n",
    "    ##Here write your own code\n",
    "    \n",
    "    return funnyDiceSample"
   ]
  },
  {
   "cell_type": "code",
   "execution_count": null,
   "metadata": {},
   "outputs": [],
   "source": [
    "print(exponentialRV(105, 3,5))# You should test all three functions \n",
    "print(binomial(105, 0.7,20,5))\n",
    "print(funnyDiceRV(105, 5))"
   ]
  },
  {
   "cell_type": "markdown",
   "metadata": {},
   "source": [
    "You should use the following routine to plot a histogram of the distribution of all three simulated random variables"
   ]
  },
  {
   "cell_type": "code",
   "execution_count": 21,
   "metadata": {},
   "outputs": [
    {
     "data": {
      "image/png": "[encoded data removed]",
      "text/plain": [
       "<Figure size 432x288 with 1 Axes>"
      ]
     },
     "metadata": {
      "needs_background": "light"
     },
     "output_type": "display_data"
    },
    {
     "data": {
      "text/plain": [
       "'\\nplt.hist(binomial, bins=\\'auto\\')\\nplt.title(\"Histogram Binomial\")\\nplt.show()\\nplt.hist(funnyDiceSamples, bins=\\'auto\\')\\nplt.title(\"Histogram Funny Dice\")\\nplt.show()'"
      ]
     },
     "execution_count": 21,
     "metadata": {},
     "output_type": "execute_result"
    }
   ],
   "source": [
    "numberSimulations=10000\n",
    "exponentialSamples=exponentialRV(1, 2,numberSimulations)\n",
    "\n",
    "#binomialSamples=binomial(1, 0.7,20,numberSimulations)\n",
    "#funnyDiceSamples=funnyDiceRV(1, numberSimulations)\n",
    "\n",
    "#np.histogram(exponentialSamples)\n",
    "plt.hist(exponentialSamples, bins='auto')\n",
    "plt.title(\"Histogram Exponential\")\n",
    "plt.show()\n",
    "'''\n",
    "plt.hist(binomial, bins='auto')\n",
    "plt.title(\"Histogram Binomial\")\n",
    "plt.show()\n",
    "plt.hist(funnyDiceSamples, bins='auto')\n",
    "plt.title(\"Histogram Funny Dice\")\n",
    "plt.show()'''"
   ]
  },
  {
   "cell_type": "markdown",
   "metadata": {},
   "source": [
    "For the exponential random variable, you should then test the empirical expectation and variance of the random variables you generated. Assume you have generated random variables $X_1,X_2,X_3,\\dots,X_n$ calculate the empirical mean \n",
    "\\begin{equation}\n",
    "\\hat{\\text{ }\\mu} =\\frac{\\sum^n_{i=1} X_i}{n}\n",
    "\\end{equation}\n",
    "and the empirical variance \n",
    "\\begin{equation}\n",
    "\\hat{\\text{ }\\sigma} = \\frac{\\sum^n_{i=1}(X_i - \\hat{\\mu})^2}{n}\n",
    "\\end{equation}\n",
    "Use 10000 simulations. Is the result of your calculation in line with what you expect? Why?"
   ]
  },
  {
   "cell_type": "code",
   "execution_count": 1,
   "metadata": {},
   "outputs": [],
   "source": [
    "#Here you add the few lines of code for your calculations"
   ]
  },
  {
   "cell_type": "markdown",
   "metadata": {},
   "source": [
    "Explanation: "
   ]
  },
  {
   "cell_type": "code",
   "execution_count": null,
   "metadata": {},
   "outputs": [],
   "source": []
  },
  {
   "cell_type": "code",
   "execution_count": null,
   "metadata": {},
   "outputs": [],
   "source": []
  }
 ],
 "metadata": {
  "anaconda-cloud": {},
  "kernelspec": {
   "display_name": "Python 3 (ipykernel)",
   "language": "python",
   "name": "python3"
  },
  "language_info": {
   "codemirror_mode": {
    "name": "ipython",
    "version": 3
   },
   "file_extension": ".py",
   "mimetype": "text/x-python",
   "name": "python",
   "nbconvert_exporter": "python",
   "pygments_lexer": "ipython3",
   "version": "3.8.6"
  }
 },
 "nbformat": 4,
 "nbformat_minor": 2
}
